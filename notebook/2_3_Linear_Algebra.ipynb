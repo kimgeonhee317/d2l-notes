{
  "nbformat": 4,
  "nbformat_minor": 0,
  "metadata": {
    "colab": {
      "provenance": [],
      "toc_visible": true,
      "authorship_tag": "ABX9TyOp3e09/FI2oIcU6qo8dlPx",
      "include_colab_link": true
    },
    "kernelspec": {
      "name": "python3",
      "display_name": "Python 3"
    },
    "language_info": {
      "name": "python"
    }
  },
  "cells": [
    {
      "cell_type": "markdown",
      "metadata": {
        "id": "view-in-github",
        "colab_type": "text"
      },
      "source": [
        "<a href=\"https://colab.research.google.com/github/kimgeonhee317/d2l-notes/blob/main/notebook/2_3_Linear_Algebra.ipynb\" target=\"_parent\"><img src=\"https://colab.research.google.com/assets/colab-badge.svg\" alt=\"Open In Colab\"/></a>"
      ]
    },
    {
      "cell_type": "code",
      "source": [
        "import torch"
      ],
      "metadata": {
        "id": "awBrK47hwbgB"
      },
      "execution_count": 2,
      "outputs": []
    },
    {
      "cell_type": "markdown",
      "source": [
        "## 2.3.1 Scalars"
      ],
      "metadata": {
        "id": "Nij-PaaqwFfJ"
      }
    },
    {
      "cell_type": "code",
      "execution_count": 3,
      "metadata": {
        "colab": {
          "base_uri": "https://localhost:8080/"
        },
        "id": "PXTnlg64vyps",
        "outputId": "5295d149-2e51-4a38-acc7-728f8ce7b851"
      },
      "outputs": [
        {
          "output_type": "execute_result",
          "data": {
            "text/plain": [
              "(tensor(5.), tensor(6.), tensor(1.5000), tensor(9.))"
            ]
          },
          "metadata": {},
          "execution_count": 3
        }
      ],
      "source": [
        "# scalar is 0th-order tensor\n",
        "# scalar is denoted by lower-cased letter (e.g., x, y, and z)\n",
        "x = torch.tensor(3.0)\n",
        "y = torch.tensor(2.0)\n",
        "\n",
        "x + y, x * y, x / y, x**y"
      ]
    },
    {
      "cell_type": "markdown",
      "source": [
        "## 2.3.2 Vectors"
      ],
      "metadata": {
        "id": "YQmniD14wf4q"
      }
    },
    {
      "cell_type": "code",
      "source": [
        "# vector is 1st-order tensor\n",
        "# vector is denoted by bold lowercase letter (e.g., *x*, *y*, and *z*)\n",
        "x = torch.arange(3)\n",
        "x"
      ],
      "metadata": {
        "colab": {
          "base_uri": "https://localhost:8080/"
        },
        "id": "BDwTy23HwYT9",
        "outputId": "7704a58b-8f7d-4c62-8b27-1bebc45f2865"
      },
      "execution_count": 6,
      "outputs": [
        {
          "output_type": "execute_result",
          "data": {
            "text/plain": [
              "tensor([0, 1, 2])"
            ]
          },
          "metadata": {},
          "execution_count": 6
        }
      ]
    },
    {
      "cell_type": "markdown",
      "source": [
        "By default, we visualize vectors by stacking their elemnts vertically\n",
        "\n",
        "$$\n",
        "\\mathbf{x} =\n",
        "\\begin{bmatrix}\n",
        "x_1 \\\\\n",
        ". \\\\\n",
        ". \\\\\n",
        ". \\\\\n",
        "x_n\n",
        "\\end{bmatrix}\n",
        "$$"
      ],
      "metadata": {
        "id": "BpaYdhr-xBvW"
      }
    },
    {
      "cell_type": "code",
      "source": [
        "x[2]"
      ],
      "metadata": {
        "colab": {
          "base_uri": "https://localhost:8080/"
        },
        "id": "Y7nmqeCOw9D4",
        "outputId": "9cac9759-3d2f-4437-924c-47853a061435"
      },
      "execution_count": 7,
      "outputs": [
        {
          "output_type": "execute_result",
          "data": {
            "text/plain": [
              "tensor(2)"
            ]
          },
          "metadata": {},
          "execution_count": 7
        }
      ]
    },
    {
      "cell_type": "code",
      "source": [
        "len(x)"
      ],
      "metadata": {
        "colab": {
          "base_uri": "https://localhost:8080/"
        },
        "id": "2MnHBY6Hx3Hl",
        "outputId": "ae630409-7ca5-4a74-da28-0a1c1b4d6d45"
      },
      "execution_count": 8,
      "outputs": [
        {
          "output_type": "execute_result",
          "data": {
            "text/plain": [
              "3"
            ]
          },
          "metadata": {},
          "execution_count": 8
        }
      ]
    },
    {
      "cell_type": "code",
      "source": [
        "# shape output length along each axis, Tensors with just one axis have shapes with jus one element\n",
        "x.shape"
      ],
      "metadata": {
        "colab": {
          "base_uri": "https://localhost:8080/"
        },
        "id": "yMHt5XX1x-6m",
        "outputId": "54b861ac-1dfa-4471-e230-481d79575808"
      },
      "execution_count": 9,
      "outputs": [
        {
          "output_type": "execute_result",
          "data": {
            "text/plain": [
              "torch.Size([3])"
            ]
          },
          "metadata": {},
          "execution_count": 9
        }
      ]
    },
    {
      "cell_type": "markdown",
      "source": [
        "## 2.3.3 Matrices"
      ],
      "metadata": {
        "id": "sbbGMFC-yW4m"
      }
    },
    {
      "cell_type": "code",
      "source": [
        "# Matrice is 2nd-order tensors\n",
        "# Denoted by bold capital letter (e.g., X, Y, and Z)\n",
        "A = torch.arange(6).reshape(3, 2)\n",
        "A"
      ],
      "metadata": {
        "colab": {
          "base_uri": "https://localhost:8080/"
        },
        "id": "DtC8SjQzyBqF",
        "outputId": "cc3962fc-2a33-459d-eac3-4ed71e78d138"
      },
      "execution_count": 11,
      "outputs": [
        {
          "output_type": "execute_result",
          "data": {
            "text/plain": [
              "tensor([[0, 1],\n",
              "        [2, 3],\n",
              "        [4, 5]])"
            ]
          },
          "metadata": {},
          "execution_count": 11
        }
      ]
    },
    {
      "cell_type": "code",
      "source": [
        "# Flip the axes (Transpose)\n",
        "A.T"
      ],
      "metadata": {
        "colab": {
          "base_uri": "https://localhost:8080/"
        },
        "id": "LZydbphbyxIh",
        "outputId": "065c8371-2ed5-4b77-f968-8eb25c434f9b"
      },
      "execution_count": 12,
      "outputs": [
        {
          "output_type": "execute_result",
          "data": {
            "text/plain": [
              "tensor([[0, 2, 4],\n",
              "        [1, 3, 5]])"
            ]
          },
          "metadata": {},
          "execution_count": 12
        }
      ]
    },
    {
      "cell_type": "markdown",
      "source": [
        "## 2.3.4 Tensors"
      ],
      "metadata": {
        "id": "Saou6NEBy9xE"
      }
    },
    {
      "cell_type": "code",
      "source": [
        "# Tensors is nth-order (high order tensor)\n",
        "# Tensors denoted by capital letters with special font face (e.g., X, Y, and Z)\n",
        "torch.arange(24).reshape(2, 3, 4)"
      ],
      "metadata": {
        "colab": {
          "base_uri": "https://localhost:8080/"
        },
        "id": "elvT8m8oy13U",
        "outputId": "c2dc972e-02e9-4fbe-e55c-a5e13397d38f"
      },
      "execution_count": 14,
      "outputs": [
        {
          "output_type": "execute_result",
          "data": {
            "text/plain": [
              "tensor([[[ 0,  1,  2,  3],\n",
              "         [ 4,  5,  6,  7],\n",
              "         [ 8,  9, 10, 11]],\n",
              "\n",
              "        [[12, 13, 14, 15],\n",
              "         [16, 17, 18, 19],\n",
              "         [20, 21, 22, 23]]])"
            ]
          },
          "metadata": {},
          "execution_count": 14
        }
      ]
    },
    {
      "cell_type": "markdown",
      "source": [
        "## 2.3.5 Basic Properties of Tensor Arithmetic\n",
        "The element wise product of two matrices is called their Hadamard product (denoted $\\bigodot$)"
      ],
      "metadata": {
        "id": "mLd9ZIq8zcL5"
      }
    },
    {
      "cell_type": "code",
      "source": [
        "# Elementwise operation produce outputs that have same shape as their operands\n",
        "A = torch.arange(6, dtype = torch.float32).reshape(2, 3)\n",
        "B = A.clone()\n",
        "A, A + B"
      ],
      "metadata": {
        "colab": {
          "base_uri": "https://localhost:8080/"
        },
        "id": "xkj6DTgszYiu",
        "outputId": "c5a9dbb2-cd14-4fbe-99f8-e4c7094cad2a"
      },
      "execution_count": 17,
      "outputs": [
        {
          "output_type": "execute_result",
          "data": {
            "text/plain": [
              "(tensor([[0., 1., 2.],\n",
              "         [3., 4., 5.]]),\n",
              " tensor([[ 0.,  2.,  4.],\n",
              "         [ 6.,  8., 10.]]))"
            ]
          },
          "metadata": {},
          "execution_count": 17
        }
      ]
    },
    {
      "cell_type": "code",
      "source": [
        "# Adding or multiplying a scalar and a tensor produces a result with same shape as original tensor\n",
        "a = 2\n",
        "X = torch.arange(24).reshape(2, 3, 4)\n",
        "a + X, (a * X).shape"
      ],
      "metadata": {
        "colab": {
          "base_uri": "https://localhost:8080/"
        },
        "id": "g6OYNUH0zvuN",
        "outputId": "b5c3b932-4819-4881-eb4a-1cc953d4c8a5"
      },
      "execution_count": 18,
      "outputs": [
        {
          "output_type": "execute_result",
          "data": {
            "text/plain": [
              "(tensor([[[ 2,  3,  4,  5],\n",
              "          [ 6,  7,  8,  9],\n",
              "          [10, 11, 12, 13]],\n",
              " \n",
              "         [[14, 15, 16, 17],\n",
              "          [18, 19, 20, 21],\n",
              "          [22, 23, 24, 25]]]),\n",
              " torch.Size([2, 3, 4]))"
            ]
          },
          "metadata": {},
          "execution_count": 18
        }
      ]
    },
    {
      "cell_type": "markdown",
      "source": [
        "## 2.3.6 Reduction"
      ],
      "metadata": {
        "id": "SVrF4aEG1Dwn"
      }
    },
    {
      "cell_type": "code",
      "source": [
        "# sum of elements\n",
        "x = torch.arange(3, dtype=torch.float32)\n",
        "x, x.sum()"
      ],
      "metadata": {
        "colab": {
          "base_uri": "https://localhost:8080/"
        },
        "id": "FB0hTvkR01Rq",
        "outputId": "ff5f2436-25a1-4de4-8dc0-49703904e06b"
      },
      "execution_count": 19,
      "outputs": [
        {
          "output_type": "execute_result",
          "data": {
            "text/plain": [
              "(tensor([0., 1., 2.]), tensor(3.))"
            ]
          },
          "metadata": {},
          "execution_count": 19
        }
      ]
    },
    {
      "cell_type": "code",
      "source": [
        "A.shape, A.sum()"
      ],
      "metadata": {
        "colab": {
          "base_uri": "https://localhost:8080/"
        },
        "id": "9lUxueL01MdP",
        "outputId": "713c9f50-1f9a-48a3-8c8e-c19e013a0e6a"
      },
      "execution_count": 20,
      "outputs": [
        {
          "output_type": "execute_result",
          "data": {
            "text/plain": [
              "(torch.Size([2, 3]), tensor(15.))"
            ]
          },
          "metadata": {},
          "execution_count": 20
        }
      ]
    },
    {
      "cell_type": "code",
      "source": [
        "# sum over elements along the rows(axis 0)\n",
        "# \"This axis is missing\" from the shape of the output\n",
        "print(A)\n",
        "print(A.sum(axis=0))\n",
        "print(A.shape, A.sum(axis=0).shape)"
      ],
      "metadata": {
        "colab": {
          "base_uri": "https://localhost:8080/"
        },
        "id": "V3XmV_ry1TLS",
        "outputId": "95997c04-8c43-4bc9-aede-a4e5c51f8f0d"
      },
      "execution_count": 24,
      "outputs": [
        {
          "output_type": "stream",
          "name": "stdout",
          "text": [
            "tensor([[0., 1., 2.],\n",
            "        [3., 4., 5.]])\n",
            "tensor([3., 5., 7.])\n",
            "torch.Size([2, 3]) torch.Size([3])\n"
          ]
        }
      ]
    },
    {
      "cell_type": "code",
      "source": [
        "# sum over elements along the columns(axis 1)\n",
        "# \"This axis is missing\" from the shape of the output\n",
        "print(A)\n",
        "print(A.sum(axis=1))\n",
        "print(A.shape, A.sum(axis=1).shape)"
      ],
      "metadata": {
        "colab": {
          "base_uri": "https://localhost:8080/"
        },
        "id": "p6_9sbFb2G18",
        "outputId": "f042c7f5-1874-4fc0-fee4-c12219842e51"
      },
      "execution_count": 25,
      "outputs": [
        {
          "output_type": "stream",
          "name": "stdout",
          "text": [
            "tensor([[0., 1., 2.],\n",
            "        [3., 4., 5.]])\n",
            "tensor([ 3., 12.])\n",
            "torch.Size([2, 3]) torch.Size([2])\n"
          ]
        }
      ]
    },
    {
      "cell_type": "code",
      "source": [
        "# both rows and columnss\n",
        "A.sum(axis=[0, 1]) == A.sum()"
      ],
      "metadata": {
        "colab": {
          "base_uri": "https://localhost:8080/"
        },
        "id": "ylYlQ_742fde",
        "outputId": "bec115bf-6370-40cb-fe90-51716c466cb8"
      },
      "execution_count": 26,
      "outputs": [
        {
          "output_type": "execute_result",
          "data": {
            "text/plain": [
              "tensor(True)"
            ]
          },
          "metadata": {},
          "execution_count": 26
        }
      ]
    },
    {
      "cell_type": "code",
      "source": [
        "# mean\n",
        "A.mean(), A.sum()/A.numel()"
      ],
      "metadata": {
        "colab": {
          "base_uri": "https://localhost:8080/"
        },
        "id": "8Vbfq7_x2oXH",
        "outputId": "069c1d87-dcea-400b-b9af-6389c4e2a497"
      },
      "execution_count": 27,
      "outputs": [
        {
          "output_type": "execute_result",
          "data": {
            "text/plain": [
              "(tensor(2.5000), tensor(2.5000))"
            ]
          },
          "metadata": {},
          "execution_count": 27
        }
      ]
    },
    {
      "cell_type": "code",
      "source": [
        "# also can reduce a tensor along specific axes\n",
        "A.mean(axis=0), A.sum(axis=0)/A.shape[0]"
      ],
      "metadata": {
        "colab": {
          "base_uri": "https://localhost:8080/"
        },
        "id": "hXLKOGRf2vNx",
        "outputId": "72a7b053-b53f-40f0-c40d-46eb36f96cf2"
      },
      "execution_count": 28,
      "outputs": [
        {
          "output_type": "execute_result",
          "data": {
            "text/plain": [
              "(tensor([1.5000, 2.5000, 3.5000]), tensor([1.5000, 2.5000, 3.5000]))"
            ]
          },
          "metadata": {},
          "execution_count": 28
        }
      ]
    },
    {
      "cell_type": "markdown",
      "source": [
        "## 2.3.7 Non-Reduction Sum"
      ],
      "metadata": {
        "id": "SKJd-6R-3BXg"
      }
    },
    {
      "cell_type": "code",
      "source": [
        "# Summation but number of axes unchanged\n",
        "print(A)\n",
        "sum_A = A.sum(axis=1, keepdims=True)\n",
        "sum_A, sum_A.shape"
      ],
      "metadata": {
        "colab": {
          "base_uri": "https://localhost:8080/"
        },
        "id": "Alb76V2y3AO6",
        "outputId": "ed148c10-2ddc-4ecf-f1fe-ef964107f69c"
      },
      "execution_count": 31,
      "outputs": [
        {
          "output_type": "stream",
          "name": "stdout",
          "text": [
            "tensor([[0., 1., 2.],\n",
            "        [3., 4., 5.]])\n"
          ]
        },
        {
          "output_type": "execute_result",
          "data": {
            "text/plain": [
              "(tensor([[ 3.],\n",
              "         [12.]]),\n",
              " torch.Size([2, 1]))"
            ]
          },
          "metadata": {},
          "execution_count": 31
        }
      ]
    },
    {
      "cell_type": "code",
      "source": [
        "# Since sum_A keeps it two axes after summing each row,\n",
        "# we can divide A by sum_A with broadcasting to create a matri where each rows sums up to 1\n",
        "A / sum_A"
      ],
      "metadata": {
        "colab": {
          "base_uri": "https://localhost:8080/"
        },
        "id": "SWd9fNKU3S9I",
        "outputId": "3e7bb155-5b39-4ed4-e21c-71b1c431c26b"
      },
      "execution_count": 32,
      "outputs": [
        {
          "output_type": "execute_result",
          "data": {
            "text/plain": [
              "tensor([[0.0000, 0.3333, 0.6667],\n",
              "        [0.2500, 0.3333, 0.4167]])"
            ]
          },
          "metadata": {},
          "execution_count": 32
        }
      ]
    },
    {
      "cell_type": "code",
      "source": [
        "# cumulative sum of elements\n",
        "A.cumsum(axis=0)"
      ],
      "metadata": {
        "colab": {
          "base_uri": "https://localhost:8080/"
        },
        "id": "I9XaB02l4gde",
        "outputId": "230f75f4-11ac-4d8d-c1e4-f95d7d8f5572"
      },
      "execution_count": 33,
      "outputs": [
        {
          "output_type": "execute_result",
          "data": {
            "text/plain": [
              "tensor([[0., 1., 2.],\n",
              "        [3., 5., 7.]])"
            ]
          },
          "metadata": {},
          "execution_count": 33
        }
      ]
    },
    {
      "cell_type": "markdown",
      "source": [
        "## 2.3.8 Dot Products"
      ],
      "metadata": {
        "id": "pSel_6RP4rLt"
      }
    },
    {
      "cell_type": "code",
      "source": [
        "# Dot product is a sum over the products of the elements at the same position\n",
        "y = torch.ones(3, dtype = torch.float32)\n",
        "x, y, torch.dot(x, y)"
      ],
      "metadata": {
        "colab": {
          "base_uri": "https://localhost:8080/"
        },
        "id": "qPQVaCfc4uBR",
        "outputId": "ee75b04e-91a1-4c7b-c299-a05fd35da9a1"
      },
      "execution_count": 35,
      "outputs": [
        {
          "output_type": "execute_result",
          "data": {
            "text/plain": [
              "(tensor([0., 1., 2.]), tensor([1., 1., 1.]), tensor(3.))"
            ]
          },
          "metadata": {},
          "execution_count": 35
        }
      ]
    },
    {
      "cell_type": "code",
      "source": [
        "# Equivalently, It is elementwise multiplication followed by a sum\n",
        "torch.sum(x * y)"
      ],
      "metadata": {
        "colab": {
          "base_uri": "https://localhost:8080/"
        },
        "id": "FnxeZjQ65BW0",
        "outputId": "5a9b1721-389d-4352-a633-dc38d72e5a1b"
      },
      "execution_count": 36,
      "outputs": [
        {
          "output_type": "execute_result",
          "data": {
            "text/plain": [
              "tensor(3.)"
            ]
          },
          "metadata": {},
          "execution_count": 36
        }
      ]
    },
    {
      "cell_type": "markdown",
      "source": [
        "After normalizing two vectors to have unit length, the dot products express the cosine of the angle between them(cosine similarity)"
      ],
      "metadata": {
        "id": "PZzP_HGx7BWg"
      }
    },
    {
      "cell_type": "markdown",
      "source": [
        "## 2.3.9 Matrix-Vector Products"
      ],
      "metadata": {
        "id": "3s0VJ_j17P6j"
      }
    },
    {
      "cell_type": "code",
      "source": [
        "# Matrix-vector multiplication\n",
        "# A in R(mxn) as transformation that projects vectors from R(n) to R(m)\n",
        "A.shape, x.shape, torch.mv(A, x), A@x, (A@x).shape"
      ],
      "metadata": {
        "colab": {
          "base_uri": "https://localhost:8080/"
        },
        "id": "iYeS2Fqr5Qto",
        "outputId": "47efc74e-e67a-4296-b1be-d5b97bf3fcc2"
      },
      "execution_count": 40,
      "outputs": [
        {
          "output_type": "execute_result",
          "data": {
            "text/plain": [
              "(torch.Size([2, 3]),\n",
              " torch.Size([3]),\n",
              " tensor([ 5., 14.]),\n",
              " tensor([ 5., 14.]),\n",
              " torch.Size([2]))"
            ]
          },
          "metadata": {},
          "execution_count": 40
        }
      ]
    },
    {
      "cell_type": "markdown",
      "source": [
        "## 2.3.10 Matrix-Matrix Multiplication"
      ],
      "metadata": {
        "id": "XkVXl1bS8RD2"
      }
    },
    {
      "cell_type": "code",
      "source": [
        "# A(n*k) mm B(k*m) = n*m\n",
        "# AB as performing m matrix-vector products\n",
        "# or simply dot product of ith row of A and jth column of B (a_T * b)\n",
        "B = torch.ones(3, 4)\n",
        "torch.mm(A, B), A@B"
      ],
      "metadata": {
        "colab": {
          "base_uri": "https://localhost:8080/"
        },
        "id": "y-T7Sdx88G96",
        "outputId": "286246c9-eb5b-4ded-932d-5a1fdca47ebe"
      },
      "execution_count": 42,
      "outputs": [
        {
          "output_type": "execute_result",
          "data": {
            "text/plain": [
              "(tensor([[ 3.,  3.,  3.,  3.],\n",
              "         [12., 12., 12., 12.]]),\n",
              " tensor([[ 3.,  3.,  3.,  3.],\n",
              "         [12., 12., 12., 12.]]))"
            ]
          },
          "metadata": {},
          "execution_count": 42
        }
      ]
    },
    {
      "cell_type": "markdown",
      "source": [
        "## 2.3.11 Norms"
      ],
      "metadata": {
        "id": "7Oehmx8Y-DGM"
      }
    },
    {
      "cell_type": "code",
      "source": [
        "# l2 norm (Euclidean distance)\n",
        "u = torch.tensor([3.0, -4.0])\n",
        "torch.norm(u)"
      ],
      "metadata": {
        "colab": {
          "base_uri": "https://localhost:8080/"
        },
        "id": "mAcypiwI9VRp",
        "outputId": "c9e33643-6117-4e31-8abb-483c05fdf7c2"
      },
      "execution_count": 43,
      "outputs": [
        {
          "output_type": "execute_result",
          "data": {
            "text/plain": [
              "tensor(5.)"
            ]
          },
          "metadata": {},
          "execution_count": 43
        }
      ]
    },
    {
      "cell_type": "code",
      "source": [
        "# l1 norm (Manhattan distance) - less sensitive to outliers\n",
        "torch.abs(u).sum()\n"
      ],
      "metadata": {
        "colab": {
          "base_uri": "https://localhost:8080/"
        },
        "id": "8WC_VyUB-zqK",
        "outputId": "f8d34e3d-6057-47e1-bb12-153e81fab1c3"
      },
      "execution_count": 44,
      "outputs": [
        {
          "output_type": "execute_result",
          "data": {
            "text/plain": [
              "tensor(7.)"
            ]
          },
          "metadata": {},
          "execution_count": 44
        }
      ]
    },
    {
      "cell_type": "code",
      "source": [
        "# Frobenius norm (l2 norm of matrix-shaped vector)\n",
        "torch.norm(torch.ones((4, 9)))"
      ],
      "metadata": {
        "colab": {
          "base_uri": "https://localhost:8080/"
        },
        "id": "mEtbbaiP_A9a",
        "outputId": "e4b759ea-b458-43ba-fda9-89e6f9acf916"
      },
      "execution_count": 45,
      "outputs": [
        {
          "output_type": "execute_result",
          "data": {
            "text/plain": [
              "tensor(6.)"
            ]
          },
          "metadata": {},
          "execution_count": 45
        }
      ]
    },
    {
      "cell_type": "code",
      "source": [],
      "metadata": {
        "id": "u2E0row7_mLc"
      },
      "execution_count": null,
      "outputs": []
    }
  ]
}