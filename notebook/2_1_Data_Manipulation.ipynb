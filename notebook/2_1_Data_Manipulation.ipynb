{
  "nbformat": 4,
  "nbformat_minor": 0,
  "metadata": {
    "colab": {
      "provenance": [],
      "authorship_tag": "ABX9TyNxQrZPb2Q6q/N2jVdCVRig",
      "include_colab_link": true
    },
    "kernelspec": {
      "name": "python3",
      "display_name": "Python 3"
    },
    "language_info": {
      "name": "python"
    }
  },
  "cells": [
    {
      "cell_type": "markdown",
      "metadata": {
        "id": "view-in-github",
        "colab_type": "text"
      },
      "source": [
        "<a href=\"https://colab.research.google.com/github/kimgeonhee317/d2l-notes/blob/main/notebook/2_1_Data_Manipulation.ipynb\" target=\"_parent\"><img src=\"https://colab.research.google.com/assets/colab-badge.svg\" alt=\"Open In Colab\"/></a>"
      ]
    },
    {
      "cell_type": "markdown",
      "source": [
        "## 2.1.1 Getting Started"
      ],
      "metadata": {
        "id": "XFiYC6-3PuHw"
      }
    },
    {
      "cell_type": "code",
      "execution_count": 1,
      "metadata": {
        "id": "DpfGlzfpNdaH"
      },
      "outputs": [],
      "source": [
        "import torch"
      ]
    },
    {
      "cell_type": "code",
      "source": [
        "# Unless otherwise specified, new tensors are stored in main memory and designated for CPU-based computation\n",
        "x = torch.arange(12, dtype=torch.float32)\n",
        "x"
      ],
      "metadata": {
        "colab": {
          "base_uri": "https://localhost:8080/"
        },
        "id": "cwSOae4SOQ6-",
        "outputId": "eed1aeb0-e1aa-404c-ecc8-01287745751a"
      },
      "execution_count": 4,
      "outputs": [
        {
          "output_type": "execute_result",
          "data": {
            "text/plain": [
              "tensor([ 0.,  1.,  2.,  3.,  4.,  5.,  6.,  7.,  8.,  9., 10., 11.])"
            ]
          },
          "metadata": {},
          "execution_count": 4
        }
      ]
    },
    {
      "cell_type": "code",
      "source": [
        "# numel() : number of element\n",
        "x.numel()"
      ],
      "metadata": {
        "colab": {
          "base_uri": "https://localhost:8080/"
        },
        "id": "WyY0TZPzOWTk",
        "outputId": "a8c8bd18-5bcd-4b0a-9a20-051c8a402ccb"
      },
      "execution_count": 6,
      "outputs": [
        {
          "output_type": "execute_result",
          "data": {
            "text/plain": [
              "12"
            ]
          },
          "metadata": {},
          "execution_count": 6
        }
      ]
    },
    {
      "cell_type": "code",
      "source": [
        "# shape\n",
        "x.shape"
      ],
      "metadata": {
        "colab": {
          "base_uri": "https://localhost:8080/"
        },
        "id": "-s_vkG0SO9kC",
        "outputId": "337d222b-5398-425f-a11c-9e570a9eabb3"
      },
      "execution_count": 8,
      "outputs": [
        {
          "output_type": "execute_result",
          "data": {
            "text/plain": [
              "torch.Size([12])"
            ]
          },
          "metadata": {},
          "execution_count": 8
        }
      ]
    },
    {
      "cell_type": "code",
      "source": [
        "# reshpae\n",
        "X = x.reshape(3, 4)\n",
        "X"
      ],
      "metadata": {
        "colab": {
          "base_uri": "https://localhost:8080/"
        },
        "id": "4NWtVaLPPDWe",
        "outputId": "51a76273-e610-4349-f5ba-f2132f7e77e5"
      },
      "execution_count": 9,
      "outputs": [
        {
          "output_type": "execute_result",
          "data": {
            "text/plain": [
              "tensor([[ 0.,  1.,  2.,  3.],\n",
              "        [ 4.,  5.,  6.,  7.],\n",
              "        [ 8.,  9., 10., 11.]])"
            ]
          },
          "metadata": {},
          "execution_count": 9
        }
      ]
    },
    {
      "cell_type": "code",
      "source": [
        "# zeros\n",
        "torch.zeros((2,3,4))"
      ],
      "metadata": {
        "colab": {
          "base_uri": "https://localhost:8080/"
        },
        "id": "DTpl1mJkPNnG",
        "outputId": "5ef182a5-3133-4acf-bd9b-58cf7e73f576"
      },
      "execution_count": 10,
      "outputs": [
        {
          "output_type": "execute_result",
          "data": {
            "text/plain": [
              "tensor([[[0., 0., 0., 0.],\n",
              "         [0., 0., 0., 0.],\n",
              "         [0., 0., 0., 0.]],\n",
              "\n",
              "        [[0., 0., 0., 0.],\n",
              "         [0., 0., 0., 0.],\n",
              "         [0., 0., 0., 0.]]])"
            ]
          },
          "metadata": {},
          "execution_count": 10
        }
      ]
    },
    {
      "cell_type": "code",
      "source": [
        "# ones\n",
        "torch.ones((2, 3, 4))"
      ],
      "metadata": {
        "colab": {
          "base_uri": "https://localhost:8080/"
        },
        "id": "wTLaqsaOPT0m",
        "outputId": "121a15f9-6adc-422f-c86d-63a5f95a11d2"
      },
      "execution_count": 11,
      "outputs": [
        {
          "output_type": "execute_result",
          "data": {
            "text/plain": [
              "tensor([[[1., 1., 1., 1.],\n",
              "         [1., 1., 1., 1.],\n",
              "         [1., 1., 1., 1.]],\n",
              "\n",
              "        [[1., 1., 1., 1.],\n",
              "         [1., 1., 1., 1.],\n",
              "         [1., 1., 1., 1.]]])"
            ]
          },
          "metadata": {},
          "execution_count": 11
        }
      ]
    },
    {
      "cell_type": "code",
      "source": [
        "# inialize random (The parameters of nn are often initialized randomly)\n",
        "# randn follow standard Gaussian distributiaon (mean of 0 and st of 1)\n",
        "torch.randn(3, 4)"
      ],
      "metadata": {
        "colab": {
          "base_uri": "https://localhost:8080/"
        },
        "id": "Amav9JIUPYJz",
        "outputId": "afdfc633-2c15-49fc-d6e1-cbfbc8201d78"
      },
      "execution_count": 12,
      "outputs": [
        {
          "output_type": "execute_result",
          "data": {
            "text/plain": [
              "tensor([[ 0.3219, -0.4575, -1.2709, -0.4665],\n",
              "        [ 0.1710,  0.1447, -0.9141,  0.2690],\n",
              "        [-0.2004,  0.7234,  0.3754, -1.0508]])"
            ]
          },
          "metadata": {},
          "execution_count": 12
        }
      ]
    },
    {
      "cell_type": "markdown",
      "source": [
        "## 2.1.2 Indexing and Slicing"
      ],
      "metadata": {
        "id": "5Xpdf5DFPytF"
      }
    },
    {
      "cell_type": "code",
      "source": [
        "# [-1] selects last row, [1:3] select second and third rows\n",
        "X[-1], X[1:3]"
      ],
      "metadata": {
        "colab": {
          "base_uri": "https://localhost:8080/"
        },
        "id": "aUTej1JNPn7h",
        "outputId": "3c6a75af-427a-4291-cab9-5464e5940d37"
      },
      "execution_count": 13,
      "outputs": [
        {
          "output_type": "execute_result",
          "data": {
            "text/plain": [
              "(tensor([ 8.,  9., 10., 11.]),\n",
              " tensor([[ 4.,  5.,  6.,  7.],\n",
              "         [ 8.,  9., 10., 11.]]))"
            ]
          },
          "metadata": {},
          "execution_count": 13
        }
      ]
    },
    {
      "cell_type": "code",
      "source": [
        "# assign value by specifiying indices\n",
        "X[1, 2] = 17\n",
        "X"
      ],
      "metadata": {
        "colab": {
          "base_uri": "https://localhost:8080/"
        },
        "id": "_ZzHRWLYQGn2",
        "outputId": "f26631f8-082e-4e38-df03-5d0e40516dc6"
      },
      "execution_count": 15,
      "outputs": [
        {
          "output_type": "execute_result",
          "data": {
            "text/plain": [
              "tensor([[ 0.,  1.,  2.,  3.],\n",
              "        [ 4.,  5., 17.,  7.],\n",
              "        [ 8.,  9., 10., 11.]])"
            ]
          },
          "metadata": {},
          "execution_count": 15
        }
      ]
    },
    {
      "cell_type": "code",
      "source": [
        " # assign multiple elements the same value, \":\" in second index means that it takes all element along the column\n",
        " X[:2, :] = 12 # 0~1 rows and all cols for that rows\n",
        " X"
      ],
      "metadata": {
        "colab": {
          "base_uri": "https://localhost:8080/"
        },
        "id": "-pesG6IPQLVH",
        "outputId": "bf947d77-621e-4457-c634-979f6415c045"
      },
      "execution_count": 17,
      "outputs": [
        {
          "output_type": "execute_result",
          "data": {
            "text/plain": [
              "tensor([[12., 12., 12., 12.],\n",
              "        [12., 12., 12., 12.],\n",
              "        [ 8.,  9., 10., 11.]])"
            ]
          },
          "metadata": {},
          "execution_count": 17
        }
      ]
    },
    {
      "cell_type": "markdown",
      "source": [
        "## 2.1.3 Operations"
      ],
      "metadata": {
        "id": "VCArYtJVQtiV"
      }
    },
    {
      "cell_type": "code",
      "source": [
        "# unary scalar operators ( f : R -> R)\n",
        "torch.exp(x)"
      ],
      "metadata": {
        "colab": {
          "base_uri": "https://localhost:8080/"
        },
        "id": "GSdCnSrzQn-O",
        "outputId": "fe73629e-3483-4a39-813a-230b4fb78841"
      },
      "execution_count": 21,
      "outputs": [
        {
          "output_type": "execute_result",
          "data": {
            "text/plain": [
              "tensor([162754.7969, 162754.7969, 162754.7969, 162754.7969, 162754.7969,\n",
              "        162754.7969, 162754.7969, 162754.7969,   2980.9580,   8103.0840,\n",
              "         22026.4648,  59874.1406])"
            ]
          },
          "metadata": {},
          "execution_count": 21
        }
      ]
    },
    {
      "cell_type": "code",
      "source": [
        "# binary scalar operators (f : R, R -> R)\n",
        "x = torch.tensor([1.0, 2, 4, 8])\n",
        "y = torch.tensor([2, 2, 2, 2])\n",
        "x + y, x - y, x * y, x / y, x ** y"
      ],
      "metadata": {
        "colab": {
          "base_uri": "https://localhost:8080/"
        },
        "id": "YkxpRtiiUmXG",
        "outputId": "efd82cc3-a736-4277-88a2-3dc7c8b89466"
      },
      "execution_count": 22,
      "outputs": [
        {
          "output_type": "execute_result",
          "data": {
            "text/plain": [
              "(tensor([ 3.,  4.,  6., 10.]),\n",
              " tensor([-1.,  0.,  2.,  6.]),\n",
              " tensor([ 2.,  4.,  8., 16.]),\n",
              " tensor([0.5000, 1.0000, 2.0000, 4.0000]),\n",
              " tensor([ 1.,  4., 16., 64.]))"
            ]
          },
          "metadata": {},
          "execution_count": 22
        }
      ]
    },
    {
      "cell_type": "code",
      "source": [
        "# concatenation\n",
        "# we need to tell the system along which axis to concatenate\n",
        "# rows for dim=0, cols for dim=1\n",
        "X = torch.arange(12, dtype=torch.float32).reshape((3, 4))\n",
        "Y = torch.tensor([[2.9, 1, 4, 3], [1, 2, 3, 4], [4, 3, 2, 1]]) # 3*4 matrix\n",
        "torch.cat((X, Y), dim = 0), torch.cat((X, Y), dim = 1)"
      ],
      "metadata": {
        "colab": {
          "base_uri": "https://localhost:8080/"
        },
        "id": "VWI42lWyVCJ0",
        "outputId": "2fd2d6ee-42b3-4059-9274-5a319c94df7c"
      },
      "execution_count": 24,
      "outputs": [
        {
          "output_type": "execute_result",
          "data": {
            "text/plain": [
              "(tensor([[ 0.0000,  1.0000,  2.0000,  3.0000],\n",
              "         [ 4.0000,  5.0000,  6.0000,  7.0000],\n",
              "         [ 8.0000,  9.0000, 10.0000, 11.0000],\n",
              "         [ 2.9000,  1.0000,  4.0000,  3.0000],\n",
              "         [ 1.0000,  2.0000,  3.0000,  4.0000],\n",
              "         [ 4.0000,  3.0000,  2.0000,  1.0000]]),\n",
              " tensor([[ 0.0000,  1.0000,  2.0000,  3.0000,  2.9000,  1.0000,  4.0000,  3.0000],\n",
              "         [ 4.0000,  5.0000,  6.0000,  7.0000,  1.0000,  2.0000,  3.0000,  4.0000],\n",
              "         [ 8.0000,  9.0000, 10.0000, 11.0000,  4.0000,  3.0000,  2.0000,  1.0000]]))"
            ]
          },
          "metadata": {},
          "execution_count": 24
        }
      ]
    },
    {
      "cell_type": "code",
      "source": [
        "# logical statements\n",
        "# X == Y for example\n",
        "X == Y"
      ],
      "metadata": {
        "colab": {
          "base_uri": "https://localhost:8080/"
        },
        "id": "yt1RyjjuVXnz",
        "outputId": "bbf48072-626b-47b8-a142-51805f52a066"
      },
      "execution_count": 25,
      "outputs": [
        {
          "output_type": "execute_result",
          "data": {
            "text/plain": [
              "tensor([[False,  True, False,  True],\n",
              "        [False, False, False, False],\n",
              "        [False, False, False, False]])"
            ]
          },
          "metadata": {},
          "execution_count": 25
        }
      ]
    },
    {
      "cell_type": "code",
      "source": [
        "# summing all elements\n",
        "X.sum()"
      ],
      "metadata": {
        "colab": {
          "base_uri": "https://localhost:8080/"
        },
        "id": "xbrVi7QEYQyk",
        "outputId": "3e46e50f-274d-4f44-a623-240d18e2d4a9"
      },
      "execution_count": 26,
      "outputs": [
        {
          "output_type": "execute_result",
          "data": {
            "text/plain": [
              "tensor(66.)"
            ]
          },
          "metadata": {},
          "execution_count": 26
        }
      ]
    },
    {
      "cell_type": "markdown",
      "source": [
        "## 2.1.4 Broadcasting"
      ],
      "metadata": {
        "id": "YBu769Q9YWrK"
      }
    },
    {
      "cell_type": "markdown",
      "source": [
        "Broadcasting works according to the following two-step procedure:\n",
        "1. Expand one or both arrays by copying elements along axes with length 1 so that after this transformation, the two tensors have the same shape.\n",
        "2. Perform elementwise operation on resulting arrays"
      ],
      "metadata": {
        "id": "j1CrrVySYxjk"
      }
    },
    {
      "cell_type": "code",
      "source": [
        "# generate 3*1 matrix a, 1*2 matrix b, both matrices shape are net matche up\n",
        "a = torch.arange(3).reshape((3, 1))\n",
        "b = torch.arange(2).reshape((1, 2))\n",
        "a, b"
      ],
      "metadata": {
        "colab": {
          "base_uri": "https://localhost:8080/"
        },
        "id": "vTXL7DgxYVfg",
        "outputId": "7d834972-7f51-45b2-80b0-ea9ee9f8c9a0"
      },
      "execution_count": 28,
      "outputs": [
        {
          "output_type": "execute_result",
          "data": {
            "text/plain": [
              "(tensor([[0],\n",
              "         [1],\n",
              "         [2]]),\n",
              " tensor([[0, 1]]))"
            ]
          },
          "metadata": {},
          "execution_count": 28
        }
      ]
    },
    {
      "cell_type": "code",
      "source": [
        "# Broadcasting produces a larger 3 * 2 matrix by replicating matrix a along the\\\n",
        "# columns and matrix b along the rows before adding them elemntwise\n",
        "a + b"
      ],
      "metadata": {
        "colab": {
          "base_uri": "https://localhost:8080/"
        },
        "id": "ze-fRStrZ4nl",
        "outputId": "74d6dade-f2de-45f5-e521-3b7c49d355e9"
      },
      "execution_count": 29,
      "outputs": [
        {
          "output_type": "execute_result",
          "data": {
            "text/plain": [
              "tensor([[0, 1],\n",
              "        [1, 2],\n",
              "        [2, 3]])"
            ]
          },
          "metadata": {},
          "execution_count": 29
        }
      ]
    },
    {
      "cell_type": "code",
      "source": [],
      "metadata": {
        "id": "7qE_-LMLau_Z"
      },
      "execution_count": null,
      "outputs": []
    }
  ]
}