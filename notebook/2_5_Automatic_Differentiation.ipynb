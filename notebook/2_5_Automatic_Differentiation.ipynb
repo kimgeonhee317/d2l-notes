{
  "nbformat": 4,
  "nbformat_minor": 0,
  "metadata": {
    "colab": {
      "provenance": [],
      "authorship_tag": "ABX9TyMhJMgcT5n/Qj5mBZneMQVR",
      "include_colab_link": true
    },
    "kernelspec": {
      "name": "python3",
      "display_name": "Python 3"
    },
    "language_info": {
      "name": "python"
    }
  },
  "cells": [
    {
      "cell_type": "markdown",
      "metadata": {
        "id": "view-in-github",
        "colab_type": "text"
      },
      "source": [
        "<a href=\"https://colab.research.google.com/github/kimgeonhee317/d2l-notes/blob/main/notebook/2_5_Automatic_Differentiation.ipynb\" target=\"_parent\"><img src=\"https://colab.research.google.com/assets/colab-badge.svg\" alt=\"Open In Colab\"/></a>"
      ]
    },
    {
      "cell_type": "code",
      "execution_count": 1,
      "metadata": {
        "id": "2Vbi44ElpyFy"
      },
      "outputs": [],
      "source": [
        "import torch"
      ]
    },
    {
      "cell_type": "markdown",
      "source": [
        "## 2.5.1. A Simple Function"
      ],
      "metadata": {
        "id": "ip8QOFa3qLix"
      }
    },
    {
      "cell_type": "markdown",
      "source": [
        "let's say $y=2\\mathbf{x}^T\\mathbf{x}$ with respect to the column vector $\\mathbf{x}$"
      ],
      "metadata": {
        "id": "khSXe9LxqbcU"
      }
    },
    {
      "cell_type": "code",
      "source": [
        "# differentiating the function y\n",
        "x = torch.arange(4.0)\n",
        "x"
      ],
      "metadata": {
        "colab": {
          "base_uri": "https://localhost:8080/"
        },
        "id": "1CavpL-ZqKwH",
        "outputId": "fc11edd6-b264-4bcd-f880-21da067c4b86"
      },
      "execution_count": 2,
      "outputs": [
        {
          "output_type": "execute_result",
          "data": {
            "text/plain": [
              "tensor([0., 1., 2., 3.])"
            ]
          },
          "metadata": {},
          "execution_count": 2
        }
      ]
    },
    {
      "cell_type": "code",
      "source": [
        "# Can also create x = torch.arange(4.0, requires_grad = True)\n",
        "x.requires_grad_(True)\n",
        "x.grad # The gradient is None by default"
      ],
      "metadata": {
        "id": "VzCcUjliqoNC"
      },
      "execution_count": 4,
      "outputs": []
    },
    {
      "cell_type": "code",
      "source": [
        "# calculate our function of x and assign the result to y\n",
        "y = 2 * torch.dot(x, x)\n",
        "y"
      ],
      "metadata": {
        "colab": {
          "base_uri": "https://localhost:8080/"
        },
        "id": "rpCiE4GMrszh",
        "outputId": "1a7fbfb8-b928-492f-a391-9e9d2862e56e"
      },
      "execution_count": 13,
      "outputs": [
        {
          "output_type": "execute_result",
          "data": {
            "text/plain": [
              "tensor(28., grad_fn=<MulBackward0>)"
            ]
          },
          "metadata": {},
          "execution_count": 13
        }
      ]
    },
    {
      "cell_type": "code",
      "source": [
        "# Now can take the gradient of y with respect to x by calling its backward method.\n",
        "y.backward()\n",
        "x.grad"
      ],
      "metadata": {
        "colab": {
          "base_uri": "https://localhost:8080/"
        },
        "id": "xrEREre1r4Gg",
        "outputId": "f170acf7-4834-4171-95ae-0f3261035e57"
      },
      "execution_count": 14,
      "outputs": [
        {
          "output_type": "execute_result",
          "data": {
            "text/plain": [
              "tensor([ 0., 12., 24., 36.])"
            ]
          },
          "metadata": {},
          "execution_count": 14
        }
      ]
    },
    {
      "cell_type": "code",
      "source": [
        "# Verify\n",
        "x.grad == 4 * x"
      ],
      "metadata": {
        "colab": {
          "base_uri": "https://localhost:8080/"
        },
        "id": "C-wQq8m5sDor",
        "outputId": "dff10367-e8a5-43d2-d0e3-84f8b049d7d9"
      },
      "execution_count": 15,
      "outputs": [
        {
          "output_type": "execute_result",
          "data": {
            "text/plain": [
              "tensor([ True, False, False, False])"
            ]
          },
          "metadata": {},
          "execution_count": 15
        }
      ]
    },
    {
      "cell_type": "code",
      "source": [
        "# Pytorch does not automatically reset gradient buffer when we record a new gradient.\n",
        "# To reset the gradient buffer, we can call x.grad.zero() as follows:\n",
        "x.grad.zero_() # reset\n",
        "y = x.sum()\n",
        "y.backward()\n",
        "x.grad"
      ],
      "metadata": {
        "colab": {
          "base_uri": "https://localhost:8080/"
        },
        "id": "nu66R6twspOa",
        "outputId": "bf8306ae-0be2-46ba-e140-d7f15aec1d2c"
      },
      "execution_count": 17,
      "outputs": [
        {
          "output_type": "execute_result",
          "data": {
            "text/plain": [
              "tensor([1., 1., 1., 1.])"
            ]
          },
          "metadata": {},
          "execution_count": 17
        }
      ]
    },
    {
      "cell_type": "markdown",
      "source": [
        "## 2.5.2 Backward for Non-Scalar Variables\n",
        "When y is a vector, the most natural interpretation of derivate of y with respect to a vector x is matrix called the *Jacobian* that contains the partial derivatives of each component of y with respect to each component of x.\n",
        "Likewise, for higher-order y and x, the differentiation result could be an even higher-order tensor."
      ],
      "metadata": {
        "id": "X58HPcz2trwy"
      }
    },
    {
      "cell_type": "markdown",
      "source": [
        "Because deep learning frameworks vary in how they interpret gradients of non-scalr tensors, PyTorch takes some steps to avoid confusion. Invoking backward on a non-scalar elicits an error unless we tell PyTorch how to reduce the object to a scalar.\n",
        "\n",
        "More formally, we need to provide some vector $\\mathbf{v}$ such that backward will compute $\\mathbf{v}^\\top \\partial_{\\mathbf{x}} \\mathbf{y}$ rather than $\\partial_{\\mathbf{x}} \\mathbf{y}$."
      ],
      "metadata": {
        "id": "3RoDCaMewISB"
      }
    },
    {
      "cell_type": "code",
      "source": [
        "x.grad.zero_()\n",
        "y = x * x\n",
        "y.backward(gradient=torch.ones(len(y)))\n",
        "x.grad"
      ],
      "metadata": {
        "colab": {
          "base_uri": "https://localhost:8080/"
        },
        "id": "xqW-OCiLwY3V",
        "outputId": "482a4d18-57e2-45d1-ea88-4c8082fa650b"
      },
      "execution_count": 18,
      "outputs": [
        {
          "output_type": "execute_result",
          "data": {
            "text/plain": [
              "tensor([0., 2., 4., 6.])"
            ]
          },
          "metadata": {},
          "execution_count": 18
        }
      ]
    },
    {
      "cell_type": "markdown",
      "source": [
        "## 2.5.3 Detaching Computation"
      ],
      "metadata": {
        "id": "oeIyUFpqwjeM"
      }
    },
    {
      "cell_type": "markdown",
      "source": [
        "Sometimes, we wish to move calculations outside of the recorded computational graph.\n",
        "In this case we need to *detach* the respective computational graph from final result.\n"
      ],
      "metadata": {
        "id": "uo0YfoR2wqOg"
      }
    },
    {
      "cell_type": "code",
      "source": [
        "x.grad.zero_()\n",
        "y = x*x\n",
        "u = y.detach()\n",
        "z = u*x\n",
        "\n",
        "z.sum().backward()\n",
        "x.grad == u"
      ],
      "metadata": {
        "colab": {
          "base_uri": "https://localhost:8080/"
        },
        "id": "7dIYkuo9wgaK",
        "outputId": "43ce0be4-2e89-48b2-d560-2df4daf51517"
      },
      "execution_count": 28,
      "outputs": [
        {
          "output_type": "execute_result",
          "data": {
            "text/plain": [
              "tensor([True, True, True, True])"
            ]
          },
          "metadata": {},
          "execution_count": 28
        }
      ]
    },
    {
      "cell_type": "code",
      "source": [
        "# While this procedure detaches y's ancestors from the graph leading to z, the computational graph leading to y persists and thus\n",
        "# we can calculate the gradient of y with respect to x.\n",
        "x.grad.zero_()\n",
        "y.sum().backward()\n",
        "x.grad == 2 * x"
      ],
      "metadata": {
        "colab": {
          "base_uri": "https://localhost:8080/"
        },
        "id": "YbbeHRh1x9Hw",
        "outputId": "061780a1-f5d8-4c00-c8d0-35f46d534e65"
      },
      "execution_count": 29,
      "outputs": [
        {
          "output_type": "execute_result",
          "data": {
            "text/plain": [
              "tensor([True, True, True, True])"
            ]
          },
          "metadata": {},
          "execution_count": 29
        }
      ]
    },
    {
      "cell_type": "markdown",
      "source": [
        "## 2.5.4 Gradients and Python Control Flow"
      ],
      "metadata": {
        "id": "hImsCEUgymWX"
      }
    },
    {
      "cell_type": "markdown",
      "source": [
        "One benefit of using automatic differentiation is that even if building the computational graph of a function required passing through a maze of Python control flow, we can still calculate the gradient of the resulting variable."
      ],
      "metadata": {
        "id": "idrByDHCzB1X"
      }
    },
    {
      "cell_type": "code",
      "source": [
        "def f(a):\n",
        "  b = a * 2\n",
        "  while b.norm() < 1000:\n",
        "    b = b * 2\n",
        "  if b.sum() > 0:\n",
        "    c = b\n",
        "  else:\n",
        "    c = 100 * b\n",
        "  return c"
      ],
      "metadata": {
        "id": "mTm69hDxyaZZ"
      },
      "execution_count": 30,
      "outputs": []
    },
    {
      "cell_type": "code",
      "source": [
        "# we call this function, passing it to random value as input\n",
        "a = torch.randn(size=(), requires_grad=True)\n",
        "d = f(a)\n",
        "d.backward()"
      ],
      "metadata": {
        "id": "A5YKZPGNzWLE"
      },
      "execution_count": 33,
      "outputs": []
    },
    {
      "cell_type": "markdown",
      "source": [
        "Its dependence on the input is quite simple, it is a linear function of a with pecewise defined scale. As such we can see $ d = \\frac{d}{a} a$ and $\\frac{d}{a}$ is a vector of constant entries."
      ],
      "metadata": {
        "id": "DLObb7po0jkU"
      }
    },
    {
      "cell_type": "code",
      "source": [
        "a.grad == d/a"
      ],
      "metadata": {
        "colab": {
          "base_uri": "https://localhost:8080/"
        },
        "id": "IUV9BDHHzm1p",
        "outputId": "0643f35a-adce-4eb1-d8d8-ecf17ddab17c"
      },
      "execution_count": 34,
      "outputs": [
        {
          "output_type": "execute_result",
          "data": {
            "text/plain": [
              "tensor(True)"
            ]
          },
          "metadata": {},
          "execution_count": 34
        }
      ]
    },
    {
      "cell_type": "code",
      "source": [],
      "metadata": {
        "id": "4Q_Ej5_B1QqV"
      },
      "execution_count": null,
      "outputs": []
    }
  ]
}